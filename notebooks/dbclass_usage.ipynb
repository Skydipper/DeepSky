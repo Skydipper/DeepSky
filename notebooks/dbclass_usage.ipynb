{
 "cells": [
  {
   "cell_type": "code",
   "execution_count": 1,
   "metadata": {
    "scrolled": true
   },
   "outputs": [],
   "source": [
    "from DeepSky import deepsky"
   ]
  },
  {
   "cell_type": "code",
   "execution_count": 3,
   "metadata": {
    "scrolled": false
   },
   "outputs": [],
   "source": [
    "SkyTrainer = deepsky.Trainer()"
   ]
  },
  {
   "cell_type": "code",
   "execution_count": 4,
   "metadata": {
    "scrolled": true
   },
   "outputs": [
    {
     "data": {
      "text/plain": [
       "['Sentinel-2-Top-of-Atmosphere-Reflectance',\n",
       " 'Landsat-7-Surface-Reflectance',\n",
       " 'Landsat-8-Surface-Reflectance',\n",
       " 'USDA-NASS-Cropland-Data-Layers',\n",
       " 'USGS-National-Land-Cover-Database',\n",
       " 'Lake-Water-Quality-100m']"
      ]
     },
     "execution_count": 4,
     "metadata": {},
     "output_type": "execute_result"
    }
   ],
   "source": [
    "SkyTrainer.slugs_list"
   ]
  },
  {
   "cell_type": "code",
   "execution_count": 5,
   "metadata": {},
   "outputs": [
    {
     "data": {
      "text/plain": [
       "['image', 'dataset', 'model', 'model_versions', 'jobs']"
      ]
     },
     "execution_count": 5,
     "metadata": {},
     "output_type": "execute_result"
    }
   ],
   "source": [
    "SkyTrainer.table_names"
   ]
  },
  {
   "cell_type": "code",
   "execution_count": null,
   "metadata": {},
   "outputs": [],
   "source": [
    "dic = {\n",
    "        'Sentinel-2-Top-of-Atmosphere-Reflectance': ['2015-06-23', ''],\n",
    "        'Landsat-7-Surface-Reflectance': ['1999-01-01', ''],\n",
    "        'Landsat-8-Surface-Reflectance': ['2013-04-01', ''],\n",
    "        'USDA-NASS-Cropland-Data-Layers': ['1997-01-01', ''],\n",
    "        'USGS-National-Land-Cover-Database': ['1992-01-01', '2017-01-01'],\n",
    "        'Lake-Water-Quality-100m': ['2019-01-01', '2019-12-31']\n",
    "    }"
   ]
  },
  {
   "cell_type": "code",
   "execution_count": 7,
   "metadata": {},
   "outputs": [
    {
     "data": {
      "text/html": [
       "<div>\n",
       "<style scoped>\n",
       "    .dataframe tbody tr th:only-of-type {\n",
       "        vertical-align: middle;\n",
       "    }\n",
       "\n",
       "    .dataframe tbody tr th {\n",
       "        vertical-align: top;\n",
       "    }\n",
       "\n",
       "    .dataframe thead th {\n",
       "        text-align: right;\n",
       "    }\n",
       "</style>\n",
       "<table border=\"1\" class=\"dataframe\">\n",
       "  <thead>\n",
       "    <tr style=\"text-align: right;\">\n",
       "      <th></th>\n",
       "      <th>dataset_id</th>\n",
       "      <th>bands_selections</th>\n",
       "      <th>scale</th>\n",
       "      <th>init_date</th>\n",
       "      <th>end_date</th>\n",
       "      <th>bands_min_max</th>\n",
       "      <th>norm_type</th>\n",
       "      <th>geostore_id</th>\n",
       "    </tr>\n",
       "    <tr>\n",
       "      <th>id</th>\n",
       "      <th></th>\n",
       "      <th></th>\n",
       "      <th></th>\n",
       "      <th></th>\n",
       "      <th></th>\n",
       "      <th></th>\n",
       "      <th></th>\n",
       "      <th></th>\n",
       "    </tr>\n",
       "  </thead>\n",
       "  <tbody>\n",
       "    <tr>\n",
       "      <th>0</th>\n",
       "      <td>0</td>\n",
       "      <td>[B2,  B3,  B4,  B5,  ndvi,  ndwi]</td>\n",
       "      <td>100.0</td>\n",
       "      <td>2019-01-21</td>\n",
       "      <td>2019-01-31</td>\n",
       "      <td>{'B1_max': 1330.4639324243033, 'B1_min': 983.0...</td>\n",
       "      <td>geostore</td>\n",
       "      <td>cc1d5d3dee2c8a6e9a4d10f74f7747a9</td>\n",
       "    </tr>\n",
       "    <tr>\n",
       "      <th>1</th>\n",
       "      <td>5</td>\n",
       "      <td>[turbidity_blended_mean]</td>\n",
       "      <td>100.0</td>\n",
       "      <td>2019-01-21</td>\n",
       "      <td>2019-01-31</td>\n",
       "      <td>{}</td>\n",
       "      <td>geostore</td>\n",
       "      <td>cc1d5d3dee2c8a6e9a4d10f74f7747a9</td>\n",
       "    </tr>\n",
       "    <tr>\n",
       "      <th>2</th>\n",
       "      <td>0</td>\n",
       "      <td>[B1,  B2,  B3,  B4,  B5,  B6,  B7,  B8A,  B8, ...</td>\n",
       "      <td>30.0</td>\n",
       "      <td>2016-01-01</td>\n",
       "      <td>2016-12-31</td>\n",
       "      <td>{'B1_max': 3807.6194751381217, 'B1_min': 1.0, ...</td>\n",
       "      <td>global</td>\n",
       "      <td>None</td>\n",
       "    </tr>\n",
       "    <tr>\n",
       "      <th>3</th>\n",
       "      <td>3</td>\n",
       "      <td>[cropland,  land,  water,  urban]</td>\n",
       "      <td>30.0</td>\n",
       "      <td>2016-01-01</td>\n",
       "      <td>2016-12-31</td>\n",
       "      <td>{}</td>\n",
       "      <td>global</td>\n",
       "      <td>None</td>\n",
       "    </tr>\n",
       "    <tr>\n",
       "      <th>4</th>\n",
       "      <td>1</td>\n",
       "      <td>None</td>\n",
       "      <td>30.0</td>\n",
       "      <td>2016-01-01</td>\n",
       "      <td>2016-12-31</td>\n",
       "      <td>{\"B1_max\": 4927.875, \"B1_min\": -1336.0, \"B2_ma...</td>\n",
       "      <td>global</td>\n",
       "      <td>None</td>\n",
       "    </tr>\n",
       "    <tr>\n",
       "      <th>5</th>\n",
       "      <td>2</td>\n",
       "      <td>None</td>\n",
       "      <td>30.0</td>\n",
       "      <td>2016-01-01</td>\n",
       "      <td>2016-12-31</td>\n",
       "      <td>{\"B10_max\": 2995.0, \"B10_min\": 2509.0, \"B11_ma...</td>\n",
       "      <td>global</td>\n",
       "      <td>None</td>\n",
       "    </tr>\n",
       "  </tbody>\n",
       "</table>\n",
       "</div>"
      ],
      "text/plain": [
       "    dataset_id                                   bands_selections  scale  \\\n",
       "id                                                                         \n",
       "0            0                  [B2,  B3,  B4,  B5,  ndvi,  ndwi]  100.0   \n",
       "1            5                           [turbidity_blended_mean]  100.0   \n",
       "2            0  [B1,  B2,  B3,  B4,  B5,  B6,  B7,  B8A,  B8, ...   30.0   \n",
       "3            3                  [cropland,  land,  water,  urban]   30.0   \n",
       "4            1                                               None   30.0   \n",
       "5            2                                               None   30.0   \n",
       "\n",
       "     init_date    end_date                                      bands_min_max  \\\n",
       "id                                                                              \n",
       "0   2019-01-21  2019-01-31  {'B1_max': 1330.4639324243033, 'B1_min': 983.0...   \n",
       "1   2019-01-21  2019-01-31                                                 {}   \n",
       "2   2016-01-01  2016-12-31  {'B1_max': 3807.6194751381217, 'B1_min': 1.0, ...   \n",
       "3   2016-01-01  2016-12-31                                                 {}   \n",
       "4   2016-01-01  2016-12-31  {\"B1_max\": 4927.875, \"B1_min\": -1336.0, \"B2_ma...   \n",
       "5   2016-01-01  2016-12-31  {\"B10_max\": 2995.0, \"B10_min\": 2509.0, \"B11_ma...   \n",
       "\n",
       "   norm_type                       geostore_id  \n",
       "id                                              \n",
       "0   geostore  cc1d5d3dee2c8a6e9a4d10f74f7747a9  \n",
       "1   geostore  cc1d5d3dee2c8a6e9a4d10f74f7747a9  \n",
       "2     global                              None  \n",
       "3     global                              None  \n",
       "4     global                              None  \n",
       "5     global                              None  "
      ]
     },
     "execution_count": 7,
     "metadata": {},
     "output_type": "execute_result"
    }
   ],
   "source": [
    "SkyTrainer.images"
   ]
  },
  {
   "cell_type": "code",
   "execution_count": 11,
   "metadata": {
    "scrolled": false
   },
   "outputs": [
    {
     "data": {
      "text/plain": [
       "[{'id': 1, 'status': 'start', 'params': {'testkey': 'vallss'}}]"
      ]
     },
     "execution_count": 11,
     "metadata": {},
     "output_type": "execute_result"
    }
   ],
   "source": [
    "SkyTrainer.db.Query(\"select * from jobs\")"
   ]
  },
  {
   "cell_type": "code",
   "execution_count": null,
   "metadata": {
    "scrolled": true
   },
   "outputs": [],
   "source": [
    "SkyTrainer.db.insert('image', [{'dataset_id':1,'bands_selections':['B2', 'B3', 'B4', 'B5', 'ndvi', 'ndwi']},{'dataset_id':2,'bands_selections':['B2', 'B3', 'B4', 'B5', 'ndvi', 'ndwi']}])"
   ]
  },
  {
   "cell_type": "code",
   "execution_count": null,
   "metadata": {},
   "outputs": [],
   "source": [
    "SkyTrainer.db.delete('jobs', 1)"
   ]
  },
  {
   "cell_type": "code",
   "execution_count": null,
   "metadata": {
    "scrolled": false
   },
   "outputs": [],
   "source": [
    "SkyTrainer.db.update('model', {'model_name':'test2'}, 4)"
   ]
  },
  {
   "cell_type": "code",
   "execution_count": null,
   "metadata": {},
   "outputs": [],
   "source": [
    "def df_to_db(df, db, table_name, id, operation):\n",
    "    \"\"\"Save DataFrames into database.\"\"\"\n",
    "    data = df.iloc[id].to_dict()\n",
    "    if operation == 'insert':\n",
    "        return db.insert(table_name, [data])\n",
    "    elif operation == 'update':\n",
    "        return db.update(table_name, data, id)\n",
    "    else:\n",
    "        raise f'operation {operation} not in [insert, update]'\n",
    "    \n",
    "\n",
    "df_to_db(SkyTrainer.versions, 'db', 'model_versions', 2)"
   ]
  },
  {
   "cell_type": "code",
   "execution_count": null,
   "metadata": {},
   "outputs": [],
   "source": []
  }
 ],
 "metadata": {
  "kernelspec": {
   "display_name": "Python 3",
   "language": "python",
   "name": "python3"
  },
  "language_info": {
   "codemirror_mode": {
    "name": "ipython",
    "version": 3
   },
   "file_extension": ".py",
   "mimetype": "text/x-python",
   "name": "python",
   "nbconvert_exporter": "python",
   "pygments_lexer": "ipython3",
   "version": "3.6.9"
  }
 },
 "nbformat": 4,
 "nbformat_minor": 4
}
